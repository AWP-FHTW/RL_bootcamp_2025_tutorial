{
 "cells": [
  {
   "metadata": {},
   "cell_type": "markdown",
   "source": "# Dependencies",
   "id": "b7082dff94535d4f"
  },
  {
   "cell_type": "code",
   "id": "initial_id",
   "metadata": {
    "collapsed": true,
    "ExecuteTime": {
     "end_time": "2025-09-17T07:35:39.008308Z",
     "start_time": "2025-09-17T07:35:37.766383Z"
    }
   },
   "source": [
    "from stable_baselines3 import PPO\n",
    "from torch.backends.cudnn import deterministic\n",
    "\n",
    "from src.tools.render_policy import render_policy_to_mp4"
   ],
   "outputs": [],
   "execution_count": 1
  },
  {
   "metadata": {},
   "cell_type": "markdown",
   "source": "# Choose RL run",
   "id": "6bf1e88d3729ada1"
  },
  {
   "metadata": {
    "ExecuteTime": {
     "end_time": "2025-09-17T07:42:07.865679Z",
     "start_time": "2025-09-17T07:42:07.862669Z"
    }
   },
   "cell_type": "code",
   "source": [
    "model_class = PPO\n",
    "model_path = 'logs/runs/train_save_best/2025-08-22_18-55-24/checkpoints/best_model/best_model.zip'\n",
    "env_id = 'CrippledAnt-v5'\n",
    "env_kwargs = {}\n",
    "out_dir = 'renders'\n",
    "video_length = 1000\n",
    "deterministic = True"
   ],
   "id": "3d471f3c611f7e91",
   "outputs": [],
   "execution_count": 6
  },
  {
   "metadata": {},
   "cell_type": "markdown",
   "source": "# Render",
   "id": "83d414c7dcfc634a"
  },
  {
   "metadata": {
    "ExecuteTime": {
     "end_time": "2025-09-17T07:42:08.779267Z",
     "start_time": "2025-09-17T07:42:08.607970Z"
    }
   },
   "cell_type": "code",
   "source": [
    "render_policy_to_mp4(\n",
    "            model_class=PPO,\n",
    "            model_path=model_path,\n",
    "            env_id=env_id,\n",
    "            env_kwargs=env_kwargs,\n",
    "            out_dir=out_dir,\n",
    "            video_length=video_length,\n",
    "            deterministic=deterministic,\n",
    "        )"
   ],
   "id": "800fb167e7b2c2a7",
   "outputs": [
    {
     "ename": "NameNotFound",
     "evalue": "Environment `CrippledAnt` doesn't exist.",
     "output_type": "error",
     "traceback": [
      "\u001B[31m---------------------------------------------------------------------------\u001B[39m",
      "\u001B[31mNameNotFound\u001B[39m                              Traceback (most recent call last)",
      "\u001B[36mCell\u001B[39m\u001B[36m \u001B[39m\u001B[32mIn[7]\u001B[39m\u001B[32m, line 1\u001B[39m\n\u001B[32m----> \u001B[39m\u001B[32m1\u001B[39m \u001B[43mrender_policy_to_mp4\u001B[49m\u001B[43m(\u001B[49m\n\u001B[32m      2\u001B[39m \u001B[43m            \u001B[49m\u001B[43mmodel_class\u001B[49m\u001B[43m=\u001B[49m\u001B[43mPPO\u001B[49m\u001B[43m,\u001B[49m\n\u001B[32m      3\u001B[39m \u001B[43m            \u001B[49m\u001B[43mmodel_path\u001B[49m\u001B[43m=\u001B[49m\u001B[43mmodel_path\u001B[49m\u001B[43m,\u001B[49m\n\u001B[32m      4\u001B[39m \u001B[43m            \u001B[49m\u001B[43menv_id\u001B[49m\u001B[43m=\u001B[49m\u001B[43menv_id\u001B[49m\u001B[43m,\u001B[49m\n\u001B[32m      5\u001B[39m \u001B[43m            \u001B[49m\u001B[43menv_kwargs\u001B[49m\u001B[43m=\u001B[49m\u001B[43menv_kwargs\u001B[49m\u001B[43m,\u001B[49m\n\u001B[32m      6\u001B[39m \u001B[43m            \u001B[49m\u001B[43mout_dir\u001B[49m\u001B[43m=\u001B[49m\u001B[43mout_dir\u001B[49m\u001B[43m,\u001B[49m\n\u001B[32m      7\u001B[39m \u001B[43m            \u001B[49m\u001B[43mvideo_length\u001B[49m\u001B[43m=\u001B[49m\u001B[43mvideo_length\u001B[49m\u001B[43m,\u001B[49m\n\u001B[32m      8\u001B[39m \u001B[43m            \u001B[49m\u001B[43mdeterministic\u001B[49m\u001B[43m=\u001B[49m\u001B[43mdeterministic\u001B[49m\u001B[43m,\u001B[49m\n\u001B[32m      9\u001B[39m \u001B[43m        \u001B[49m\u001B[43m)\u001B[49m\n",
      "\u001B[36mFile \u001B[39m\u001B[32m~/code/RL_bootcamp_2025_tutorial/src/tools/render_policy.py:29\u001B[39m, in \u001B[36mrender_policy_to_mp4\u001B[39m\u001B[34m(model_class, model_path, env_id, env_kwargs, out_dir, video_length, deterministic)\u001B[39m\n\u001B[32m     25\u001B[39m out_dir.mkdir(parents=\u001B[38;5;28;01mTrue\u001B[39;00m, exist_ok=\u001B[38;5;28;01mTrue\u001B[39;00m)\n\u001B[32m     27\u001B[39m model = model_class.load(\u001B[38;5;28mstr\u001B[39m(model_path), device=\u001B[33m\"\u001B[39m\u001B[33mcpu\u001B[39m\u001B[33m\"\u001B[39m)\n\u001B[32m---> \u001B[39m\u001B[32m29\u001B[39m env = \u001B[43mmake_single_vec_env\u001B[49m\u001B[43m(\u001B[49m\n\u001B[32m     30\u001B[39m \u001B[43m    \u001B[49m\u001B[43menv_id\u001B[49m\u001B[43m=\u001B[49m\u001B[43menv_id\u001B[49m\u001B[43m,\u001B[49m\n\u001B[32m     31\u001B[39m \u001B[43m    \u001B[49m\u001B[43menv_kwargs\u001B[49m\u001B[43m=\u001B[49m\u001B[43menv_kwargs\u001B[49m\u001B[43m,\u001B[49m\n\u001B[32m     32\u001B[39m \u001B[43m    \u001B[49m\u001B[38;5;66;43;03m# vec_env_cls=DummyVecEnv,\u001B[39;49;00m\n\u001B[32m     33\u001B[39m \u001B[43m    \u001B[49m\u001B[38;5;66;43;03m# vec_env_kwargs=vec_env_kwargs or {},\u001B[39;49;00m\n\u001B[32m     34\u001B[39m \u001B[43m\u001B[49m\u001B[43m)\u001B[49m\n\u001B[32m     36\u001B[39m name = \u001B[33mf\u001B[39m\u001B[33m\"\u001B[39m\u001B[38;5;132;01m{\u001B[39;00mPath(model_path).stem\u001B[38;5;132;01m}\u001B[39;00m\u001B[33m\"\u001B[39m\n\u001B[32m     37\u001B[39m rec_env = VecVideoRecorder(\n\u001B[32m     38\u001B[39m     env,\n\u001B[32m     39\u001B[39m     video_folder=\u001B[38;5;28mstr\u001B[39m(out_dir),\n\u001B[32m   (...)\u001B[39m\u001B[32m     42\u001B[39m     name_prefix=name,\n\u001B[32m     43\u001B[39m )\n",
      "\u001B[36mFile \u001B[39m\u001B[32m~/code/RL_bootcamp_2025_tutorial/src/utils/env_utils.py:40\u001B[39m, in \u001B[36mmake_single_vec_env\u001B[39m\u001B[34m(env_id, env_kwargs)\u001B[39m\n\u001B[32m     37\u001B[39m                 \u001B[38;5;28;01mpass\u001B[39;00m\n\u001B[32m     38\u001B[39m         \u001B[38;5;28;01mreturn\u001B[39;00m env\n\u001B[32m---> \u001B[39m\u001B[32m40\u001B[39m \u001B[38;5;28;01mreturn\u001B[39;00m \u001B[43mDummyVecEnv\u001B[49m\u001B[43m(\u001B[49m\u001B[43m[\u001B[49m\u001B[43mthunk\u001B[49m\u001B[43m]\u001B[49m\u001B[43m)\u001B[49m\n",
      "\u001B[36mFile \u001B[39m\u001B[32m~/miniconda3/envs/rlbootcamp/lib/python3.12/site-packages/stable_baselines3/common/vec_env/dummy_vec_env.py:31\u001B[39m, in \u001B[36mDummyVecEnv.__init__\u001B[39m\u001B[34m(self, env_fns)\u001B[39m\n\u001B[32m     30\u001B[39m \u001B[38;5;28;01mdef\u001B[39;00m\u001B[38;5;250m \u001B[39m\u001B[34m__init__\u001B[39m(\u001B[38;5;28mself\u001B[39m, env_fns: \u001B[38;5;28mlist\u001B[39m[Callable[[], gym.Env]]):\n\u001B[32m---> \u001B[39m\u001B[32m31\u001B[39m     \u001B[38;5;28mself\u001B[39m.envs = [_patch_env(\u001B[43mfn\u001B[49m\u001B[43m(\u001B[49m\u001B[43m)\u001B[49m) \u001B[38;5;28;01mfor\u001B[39;00m fn \u001B[38;5;129;01min\u001B[39;00m env_fns]\n\u001B[32m     32\u001B[39m     \u001B[38;5;28;01mif\u001B[39;00m \u001B[38;5;28mlen\u001B[39m(\u001B[38;5;28mset\u001B[39m([\u001B[38;5;28mid\u001B[39m(env.unwrapped) \u001B[38;5;28;01mfor\u001B[39;00m env \u001B[38;5;129;01min\u001B[39;00m \u001B[38;5;28mself\u001B[39m.envs])) != \u001B[38;5;28mlen\u001B[39m(\u001B[38;5;28mself\u001B[39m.envs):\n\u001B[32m     33\u001B[39m         \u001B[38;5;28;01mraise\u001B[39;00m \u001B[38;5;167;01mValueError\u001B[39;00m(\n\u001B[32m     34\u001B[39m             \u001B[33m\"\u001B[39m\u001B[33mYou tried to create multiple environments, but the function to create them returned the same instance \u001B[39m\u001B[33m\"\u001B[39m\n\u001B[32m     35\u001B[39m             \u001B[33m\"\u001B[39m\u001B[33minstead of creating different objects. \u001B[39m\u001B[33m\"\u001B[39m\n\u001B[32m   (...)\u001B[39m\u001B[32m     40\u001B[39m             \u001B[33m\"\u001B[39m\u001B[33mPlease read https://github.com/DLR-RM/stable-baselines3/issues/1151 for more information.\u001B[39m\u001B[33m\"\u001B[39m\n\u001B[32m     41\u001B[39m         )\n",
      "\u001B[36mFile \u001B[39m\u001B[32m~/code/RL_bootcamp_2025_tutorial/src/utils/env_utils.py:17\u001B[39m, in \u001B[36mmake_single_vec_env.<locals>.thunk\u001B[39m\u001B[34m()\u001B[39m\n\u001B[32m     16\u001B[39m \u001B[38;5;28;01mdef\u001B[39;00m\u001B[38;5;250m \u001B[39m\u001B[34mthunk\u001B[39m():\n\u001B[32m---> \u001B[39m\u001B[32m17\u001B[39m     \u001B[38;5;28;01mreturn\u001B[39;00m \u001B[43mgym\u001B[49m\u001B[43m.\u001B[49m\u001B[43mmake\u001B[49m\u001B[43m(\u001B[49m\u001B[43menv_id\u001B[49m\u001B[43m,\u001B[49m\u001B[43m \u001B[49m\u001B[43mrender_mode\u001B[49m\u001B[43m=\u001B[49m\u001B[33;43m\"\u001B[39;49m\u001B[33;43mrgb_array\u001B[39;49m\u001B[33;43m\"\u001B[39;49m\u001B[43m,\u001B[49m\u001B[43m \u001B[49m\u001B[43m*\u001B[49m\u001B[43m*\u001B[49m\u001B[43menv_kwargs\u001B[49m\u001B[43m)\u001B[49m\n",
      "\u001B[36mFile \u001B[39m\u001B[32m~/miniconda3/envs/rlbootcamp/lib/python3.12/site-packages/gymnasium/envs/registration.py:681\u001B[39m, in \u001B[36mmake\u001B[39m\u001B[34m(id, max_episode_steps, disable_env_checker, **kwargs)\u001B[39m\n\u001B[32m    678\u001B[39m     \u001B[38;5;28;01massert\u001B[39;00m \u001B[38;5;28misinstance\u001B[39m(\u001B[38;5;28mid\u001B[39m, \u001B[38;5;28mstr\u001B[39m)\n\u001B[32m    680\u001B[39m     \u001B[38;5;66;03m# The environment name can include an unloaded module in \"module:env_name\" style\u001B[39;00m\n\u001B[32m--> \u001B[39m\u001B[32m681\u001B[39m     env_spec = \u001B[43m_find_spec\u001B[49m\u001B[43m(\u001B[49m\u001B[38;5;28;43mid\u001B[39;49m\u001B[43m)\u001B[49m\n\u001B[32m    683\u001B[39m \u001B[38;5;28;01massert\u001B[39;00m \u001B[38;5;28misinstance\u001B[39m(env_spec, EnvSpec)\n\u001B[32m    685\u001B[39m \u001B[38;5;66;03m# Update the env spec kwargs with the `make` kwargs\u001B[39;00m\n",
      "\u001B[36mFile \u001B[39m\u001B[32m~/miniconda3/envs/rlbootcamp/lib/python3.12/site-packages/gymnasium/envs/registration.py:526\u001B[39m, in \u001B[36m_find_spec\u001B[39m\u001B[34m(env_id)\u001B[39m\n\u001B[32m    520\u001B[39m     logger.warn(\n\u001B[32m    521\u001B[39m         \u001B[33mf\u001B[39m\u001B[33m\"\u001B[39m\u001B[33mUsing the latest versioned environment `\u001B[39m\u001B[38;5;132;01m{\u001B[39;00mnew_env_id\u001B[38;5;132;01m}\u001B[39;00m\u001B[33m` \u001B[39m\u001B[33m\"\u001B[39m\n\u001B[32m    522\u001B[39m         \u001B[33mf\u001B[39m\u001B[33m\"\u001B[39m\u001B[33minstead of the unversioned environment `\u001B[39m\u001B[38;5;132;01m{\u001B[39;00menv_name\u001B[38;5;132;01m}\u001B[39;00m\u001B[33m`.\u001B[39m\u001B[33m\"\u001B[39m\n\u001B[32m    523\u001B[39m     )\n\u001B[32m    525\u001B[39m \u001B[38;5;28;01mif\u001B[39;00m env_spec \u001B[38;5;129;01mis\u001B[39;00m \u001B[38;5;28;01mNone\u001B[39;00m:\n\u001B[32m--> \u001B[39m\u001B[32m526\u001B[39m     \u001B[43m_check_version_exists\u001B[49m\u001B[43m(\u001B[49m\u001B[43mns\u001B[49m\u001B[43m,\u001B[49m\u001B[43m \u001B[49m\u001B[43mname\u001B[49m\u001B[43m,\u001B[49m\u001B[43m \u001B[49m\u001B[43mversion\u001B[49m\u001B[43m)\u001B[49m\n\u001B[32m    527\u001B[39m     \u001B[38;5;28;01mraise\u001B[39;00m error.Error(\n\u001B[32m    528\u001B[39m         \u001B[33mf\u001B[39m\u001B[33m\"\u001B[39m\u001B[33mNo registered env with id: \u001B[39m\u001B[38;5;132;01m{\u001B[39;00menv_name\u001B[38;5;132;01m}\u001B[39;00m\u001B[33m. Did you register it, or import the package that registers it? Use `gymnasium.pprint_registry()` to see all of the registered environments.\u001B[39m\u001B[33m\"\u001B[39m\n\u001B[32m    529\u001B[39m     )\n\u001B[32m    531\u001B[39m \u001B[38;5;28;01mreturn\u001B[39;00m env_spec\n",
      "\u001B[36mFile \u001B[39m\u001B[32m~/miniconda3/envs/rlbootcamp/lib/python3.12/site-packages/gymnasium/envs/registration.py:392\u001B[39m, in \u001B[36m_check_version_exists\u001B[39m\u001B[34m(ns, name, version)\u001B[39m\n\u001B[32m    389\u001B[39m \u001B[38;5;28;01mif\u001B[39;00m get_env_id(ns, name, version) \u001B[38;5;129;01min\u001B[39;00m registry:\n\u001B[32m    390\u001B[39m     \u001B[38;5;28;01mreturn\u001B[39;00m\n\u001B[32m--> \u001B[39m\u001B[32m392\u001B[39m \u001B[43m_check_name_exists\u001B[49m\u001B[43m(\u001B[49m\u001B[43mns\u001B[49m\u001B[43m,\u001B[49m\u001B[43m \u001B[49m\u001B[43mname\u001B[49m\u001B[43m)\u001B[49m\n\u001B[32m    393\u001B[39m \u001B[38;5;28;01mif\u001B[39;00m version \u001B[38;5;129;01mis\u001B[39;00m \u001B[38;5;28;01mNone\u001B[39;00m:\n\u001B[32m    394\u001B[39m     \u001B[38;5;28;01mreturn\u001B[39;00m\n",
      "\u001B[36mFile \u001B[39m\u001B[32m~/miniconda3/envs/rlbootcamp/lib/python3.12/site-packages/gymnasium/envs/registration.py:369\u001B[39m, in \u001B[36m_check_name_exists\u001B[39m\u001B[34m(ns, name)\u001B[39m\n\u001B[32m    366\u001B[39m namespace_msg = \u001B[33mf\u001B[39m\u001B[33m\"\u001B[39m\u001B[33m in namespace \u001B[39m\u001B[38;5;132;01m{\u001B[39;00mns\u001B[38;5;132;01m}\u001B[39;00m\u001B[33m\"\u001B[39m \u001B[38;5;28;01mif\u001B[39;00m ns \u001B[38;5;28;01melse\u001B[39;00m \u001B[33m\"\u001B[39m\u001B[33m\"\u001B[39m\n\u001B[32m    367\u001B[39m suggestion_msg = \u001B[33mf\u001B[39m\u001B[33m\"\u001B[39m\u001B[33m Did you mean: `\u001B[39m\u001B[38;5;132;01m{\u001B[39;00msuggestion[\u001B[32m0\u001B[39m]\u001B[38;5;132;01m}\u001B[39;00m\u001B[33m`?\u001B[39m\u001B[33m\"\u001B[39m \u001B[38;5;28;01mif\u001B[39;00m suggestion \u001B[38;5;28;01melse\u001B[39;00m \u001B[33m\"\u001B[39m\u001B[33m\"\u001B[39m\n\u001B[32m--> \u001B[39m\u001B[32m369\u001B[39m \u001B[38;5;28;01mraise\u001B[39;00m error.NameNotFound(\n\u001B[32m    370\u001B[39m     \u001B[33mf\u001B[39m\u001B[33m\"\u001B[39m\u001B[33mEnvironment `\u001B[39m\u001B[38;5;132;01m{\u001B[39;00mname\u001B[38;5;132;01m}\u001B[39;00m\u001B[33m` doesn\u001B[39m\u001B[33m'\u001B[39m\u001B[33mt exist\u001B[39m\u001B[38;5;132;01m{\u001B[39;00mnamespace_msg\u001B[38;5;132;01m}\u001B[39;00m\u001B[33m.\u001B[39m\u001B[38;5;132;01m{\u001B[39;00msuggestion_msg\u001B[38;5;132;01m}\u001B[39;00m\u001B[33m\"\u001B[39m\n\u001B[32m    371\u001B[39m )\n",
      "\u001B[31mNameNotFound\u001B[39m: Environment `CrippledAnt` doesn't exist."
     ]
    }
   ],
   "execution_count": 7
  },
  {
   "metadata": {},
   "cell_type": "code",
   "outputs": [],
   "execution_count": null,
   "source": "",
   "id": "56283bcdca858cb8"
  }
 ],
 "metadata": {
  "kernelspec": {
   "display_name": "Python 3",
   "language": "python",
   "name": "python3"
  },
  "language_info": {
   "codemirror_mode": {
    "name": "ipython",
    "version": 2
   },
   "file_extension": ".py",
   "mimetype": "text/x-python",
   "name": "python",
   "nbconvert_exporter": "python",
   "pygments_lexer": "ipython2",
   "version": "2.7.6"
  }
 },
 "nbformat": 4,
 "nbformat_minor": 5
}
